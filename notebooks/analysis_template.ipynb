{
 "cells": [
  {
   "cell_type": "code",
   "execution_count": null,
   "id": "1f292b81",
   "metadata": {
    "vscode": {
     "languageId": "plaintext"
    }
   },
   "outputs": [],
   "source": [
    "{\"cells\": [{\"cell_type\": \"markdown\", \"metadata\": {}, \"source\": [\"# Suricata Anomaly Analysis\\n\", \"Template notebook for analyzing Suricata logs\"]}], \"metadata\": {}, \"nbformat\": 4, \"nbformat_minor\": 2}"
   ]
  }
 ],
 "metadata": {
  "language_info": {
   "name": "python"
  }
 },
 "nbformat": 4,
 "nbformat_minor": 5
}
